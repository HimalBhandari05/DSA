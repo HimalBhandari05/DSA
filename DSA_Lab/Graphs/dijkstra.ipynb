{
 "cells": [
  {
   "cell_type": "code",
   "execution_count": 35,
   "id": "c4abcf74",
   "metadata": {},
   "outputs": [],
   "source": [
    "G = {\n",
    "    's':{'t':10, 'y':5},\n",
    "    't':{'x':1, 'y':2},\n",
    "    'x':{'z':4},\n",
    "    'y':{'x':9, 'z':2, 't':3},\n",
    "    'z':{'x':6, 's':7},\n",
    "}"
   ]
  },
  {
   "cell_type": "code",
   "execution_count": 36,
   "id": "cc20d284",
   "metadata": {},
   "outputs": [],
   "source": [
    "import math\n",
    "\n",
    "def INITIALIZE_SINGLE_SOURCE(G,s):\n",
    "    cost = dict()\n",
    "    prev = dict()\n",
    "    for vertex in G.keys():\n",
    "        cost[vertex] = math.inf\n",
    "        prev[vertex] = \"\"\n",
    "    cost[s] = 0\n",
    "    return cost , prev"
   ]
  },
  {
   "cell_type": "code",
   "execution_count": 37,
   "id": "85464b66",
   "metadata": {},
   "outputs": [],
   "source": [
    "def RELAX(G, u , v , cost , prev):\n",
    "    if cost[v]>cost[u]+G[u][v]:\n",
    "        cost[v] = cost[u] + G[u][v]\n",
    "        prev[v] = u\n",
    "\n",
    "    return cost , prev"
   ]
  },
  {
   "cell_type": "code",
   "execution_count": 38,
   "id": "c46bb517",
   "metadata": {},
   "outputs": [],
   "source": [
    "# from queue import PriorityQueue\n",
    "\n",
    "# PQ = PriorityQueue()"
   ]
  },
  {
   "cell_type": "code",
   "execution_count": 39,
   "id": "a1dfc40d",
   "metadata": {},
   "outputs": [],
   "source": [
    "from queue import PriorityQueue\n",
    "\n",
    "def DJ(G , s):\n",
    "    cost , prev = INITIALIZE_SINGLE_SOURCE(G , s)\n",
    "    PQ = PriorityQueue()\n",
    "    for vertex in G.keys():\n",
    "        PQ.put((cost[vertex] , vertex))\n",
    "    visited = []\n",
    "    while(len(visited) != len(G.keys())):\n",
    "        _ , currentVertex = PQ.get()\n",
    "        visited.append(currentVertex)\n",
    "        for chimeki in G[currentVertex].keys():\n",
    "            if chimeki not in visited:\n",
    "                cost, prev = RELAX(G , currentVertex, chimeki, cost, prev)\n",
    "                PQ.put((cost[chimeki] , chimeki))\n",
    "    return cost , prev"
   ]
  },
  {
   "cell_type": "code",
   "execution_count": 40,
   "id": "aae90c63",
   "metadata": {},
   "outputs": [
    {
     "name": "stdout",
     "output_type": "stream",
     "text": [
      "{'s': 0, 't': 8, 'x': 9, 'y': 5, 'z': 7}\n",
      "{'s': '', 't': 'y', 'x': 't', 'y': 's', 'z': 'y'}\n"
     ]
    }
   ],
   "source": [
    "s = 's'\n",
    "cost , prev = DJ(G , s)\n",
    "print(cost)\n",
    "print(prev)"
   ]
  },
  {
   "cell_type": "code",
   "execution_count": 43,
   "id": "20b6fcff",
   "metadata": {},
   "outputs": [
    {
     "name": "stdout",
     "output_type": "stream",
     "text": [
      "The shortest path from s to s is s\n",
      "Cost is 0\n",
      "The shortest path from s to t is s->y->t\n",
      "Cost is 8\n",
      "The shortest path from s to x is s->y->t->x\n",
      "Cost is 9\n",
      "The shortest path from s to y is s->y\n",
      "Cost is 5\n",
      "The shortest path from s to z is s->y->z\n",
      "Cost is 7\n"
     ]
    }
   ],
   "source": [
    "def RECONSTRUCT_PATH(vertex , prev):\n",
    "    path = vertex\n",
    "    while prev[vertex] != \"\":\n",
    "        path = prev[vertex] + '->' + path\n",
    "        vertex = prev[vertex]\n",
    "    return path\n",
    "\n",
    "s = 's'\n",
    "cost , prev = DJ(G , s)\n",
    "for vertex in G.keys():\n",
    "    print(f\"The shortest path from {s} to {vertex} is {RECONSTRUCT_PATH(vertex , prev )}\")\n",
    "    print(f\"Cost is {cost[vertex]}\")"
   ]
  }
 ],
 "metadata": {
  "kernelspec": {
   "display_name": ".venv",
   "language": "python",
   "name": "python3"
  },
  "language_info": {
   "codemirror_mode": {
    "name": "ipython",
    "version": 3
   },
   "file_extension": ".py",
   "mimetype": "text/x-python",
   "name": "python",
   "nbconvert_exporter": "python",
   "pygments_lexer": "ipython3",
   "version": "3.13.3"
  }
 },
 "nbformat": 4,
 "nbformat_minor": 5
}

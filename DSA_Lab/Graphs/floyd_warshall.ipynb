{
 "cells": [
  {
   "cell_type": "code",
   "execution_count": 3,
   "id": "c1f0907d",
   "metadata": {},
   "outputs": [],
   "source": [
    "import math\n",
    "W = [\n",
    "    [0, 10, math.inf, 5 ,  math.inf],\n",
    "    [math.inf, 0, 1, 2, math.inf],\n",
    "    [math.inf, math.inf, 0, math.inf, 4],\n",
    "    [math.inf, 3, 9, 0, 2],\n",
    "    [7, math.inf, 6, math.inf, 0]\n",
    "]"
   ]
  },
  {
   "cell_type": "code",
   "execution_count": 5,
   "id": "dc00a029",
   "metadata": {},
   "outputs": [
    {
     "name": "stdout",
     "output_type": "stream",
     "text": [
      "[[0, 8, 9, 5, 7], [11, 0, 1, 2, 4], [11, 19, 0, 16, 4], [9, 3, 4, 0, 2], [7, 15, 6, 12, 0]]\n"
     ]
    }
   ],
   "source": [
    "def FW(W):\n",
    "    n = len(W)\n",
    "    D = dict()\n",
    "    D[0] = W\n",
    "    for k in range(n):\n",
    "        D[k+1] = D[k]\n",
    "        for i in range(n):\n",
    "            for j in range(n):\n",
    "                D[k+1][i][j] = min(\n",
    "                    D[k][i][j] , D[k][i][k] + D[k][k][j]\n",
    "                )\n",
    "    print(D[k+1])\n",
    "\n",
    "FW(W)"
   ]
  }
 ],
 "metadata": {
  "kernelspec": {
   "display_name": ".venv",
   "language": "python",
   "name": "python3"
  },
  "language_info": {
   "codemirror_mode": {
    "name": "ipython",
    "version": 3
   },
   "file_extension": ".py",
   "mimetype": "text/x-python",
   "name": "python",
   "nbconvert_exporter": "python",
   "pygments_lexer": "ipython3",
   "version": "3.13.3"
  }
 },
 "nbformat": 4,
 "nbformat_minor": 5
}

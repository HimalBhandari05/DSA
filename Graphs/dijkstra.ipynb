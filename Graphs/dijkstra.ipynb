{
 "cells": [
  {
   "cell_type": "code",
   "execution_count": 35,
   "id": "c4abcf74",
   "metadata": {},
   "outputs": [],
   "source": [
    "G = {\n",
    "    's':{'t':10, 'y':5},\n",
    "    't':{'x':1, 'y':2},\n",
    "    'x':{'z':4},\n",
    "    'y':{'x':9, 'z':2, 't':3},\n",
    "    'z':{'x':6, 's':7},\n",
    "}"
   ]
  },
  {
   "cell_type": "code",
   "execution_count": 36,
   "id": "cc20d284",
   "metadata": {},
   "outputs": [],
   "source": [
    "import math\n",
    "\n",
    "def INITIALIZE_SINGLE_SOURCE(G,s):\n",
    "    cost = dict()\n",
    "    prev = dict()\n",
    "    for vertex in G.keys():\n",
    "        cost[vertex] = math.inf\n",
    "        prev[vertex] = \"\"\n",
    "    cost[s] = 0\n",
    "    return cost , prev"
   ]
  },
  {
   "cell_type": "code",
   "execution_count": 37,
   "id": "85464b66",
   "metadata": {},
   "outputs": [],
   "source": [
    "def RELAX(G, u , v , cost , prev):\n",
    "    if cost[v]>cost[u]+G[u][v]:\n",
    "        cost[v] = cost[u] + G[u][v]\n",
    "        prev[v] = u\n",
    "\n",
    "    return cost , prev"
   ]
  },
  {
   "cell_type": "code",
   "execution_count": 38,
   "id": "c46bb517",
   "metadata": {},
   "outputs": [],
   "source": [
    "# from queue import PriorityQueue\n",
    "\n",
    "# PQ = PriorityQueue()"
   ]
  },
  {
   "cell_type": "code",
   "execution_count": 39,
   "id": "a1dfc40d",
   "metadata": {},
   "outputs": [],
   "source": [
    "from queue import PriorityQueue\n",
    "\n",
    "def DJ(G , s):\n",
    "    cost , prev = INITIALIZE_SINGLE_SOURCE(G , s)\n",
    "    PQ = PriorityQueue()\n",
    "    for vertex in G.keys():\n",
    "        PQ.put((cost[vertex] , vertex))\n",
    "    visited = []\n",
    "    while(len(visited) != len(G.keys())):\n",
    "        _ , currentVertex = PQ.get()\n",
    "        visited.append(currentVertex)\n",
    "        for chimeki in G[currentVertex].keys():\n",
    "            if chimeki not in visited:\n",
    "                cost, prev = RELAX(G , currentVertex, chimeki, cost, prev)\n",
    "                PQ.put((cost[chimeki] , chimeki))\n",
    "    return cost , prev"
   ]
  },
  {
   "cell_type": "code",
   "execution_count": 40,
   "id": "aae90c63",
   "metadata": {},
   "outputs": [
    {
     "name": "stdout",
     "output_type": "stream",
     "text": [
      "{'s': 0, 't': 8, 'x': 9, 'y': 5, 'z': 7}\n",
      "{'s': '', 't': 'y', 'x': 't', 'y': 's', 'z': 'y'}\n"
     ]
    }
   ],
   "source": [
    "s = 's'\n",
    "cost , prev = DJ(G , s)\n",
    "print(cost)\n",
    "print(prev)"
   ]
  },
  {
   "cell_type": "code",
   "execution_count": null,
   "id": "20b6fcff",
   "metadata": {},
   "outputs": [
    {
     "ename": "KeyError",
     "evalue": "''",
     "output_type": "error",
     "traceback": [
      "\u001b[31m---------------------------------------------------------------------------\u001b[39m",
      "\u001b[31mKeyError\u001b[39m                                  Traceback (most recent call last)",
      "\u001b[36mCell\u001b[39m\u001b[36m \u001b[39m\u001b[32mIn[41]\u001b[39m\u001b[32m, line 11\u001b[39m\n\u001b[32m      9\u001b[39m cost , prev , DJ(G , s)\n\u001b[32m     10\u001b[39m \u001b[38;5;28;01mfor\u001b[39;00m vertex \u001b[38;5;129;01min\u001b[39;00m G.keys():\n\u001b[32m---> \u001b[39m\u001b[32m11\u001b[39m     \u001b[38;5;28mprint\u001b[39m(\u001b[33mf\u001b[39m\u001b[33m\"\u001b[39m\u001b[33mThe shortest path from \u001b[39m\u001b[38;5;132;01m{\u001b[39;00ms\u001b[38;5;132;01m}\u001b[39;00m\u001b[33m to \u001b[39m\u001b[38;5;132;01m{\u001b[39;00mvertex\u001b[38;5;132;01m}\u001b[39;00m\u001b[33m is \u001b[39m\u001b[38;5;132;01m{\u001b[39;00m\u001b[43mRECONSTRUCT_PATH\u001b[49m\u001b[43m(\u001b[49m\u001b[43mvertex\u001b[49m\u001b[38;5;250;43m \u001b[39;49m\u001b[43m,\u001b[49m\u001b[38;5;250;43m \u001b[39;49m\u001b[43mprev\u001b[49m\u001b[38;5;250;43m \u001b[39;49m\u001b[43m)\u001b[49m\u001b[38;5;132;01m}\u001b[39;00m\u001b[33m\"\u001b[39m)\n\u001b[32m     12\u001b[39m     \u001b[38;5;28mprint\u001b[39m(\u001b[33mf\u001b[39m\u001b[33m\"\u001b[39m\u001b[33mCost is \u001b[39m\u001b[38;5;132;01m{\u001b[39;00mcost[vertex]\u001b[38;5;132;01m}\u001b[39;00m\u001b[33m\"\u001b[39m)\n",
      "\u001b[36mCell\u001b[39m\u001b[36m \u001b[39m\u001b[32mIn[41]\u001b[39m\u001b[32m, line 3\u001b[39m, in \u001b[36mRECONSTRUCT_PATH\u001b[39m\u001b[34m(vertex, prev)\u001b[39m\n\u001b[32m      1\u001b[39m \u001b[38;5;28;01mdef\u001b[39;00m\u001b[38;5;250m \u001b[39m\u001b[34mRECONSTRUCT_PATH\u001b[39m(vertex , prev):\n\u001b[32m      2\u001b[39m     path = vertex\n\u001b[32m----> \u001b[39m\u001b[32m3\u001b[39m     \u001b[38;5;28;01mwhile\u001b[39;00m \u001b[43mprev\u001b[49m\u001b[43m[\u001b[49m\u001b[43mvertex\u001b[49m\u001b[43m]\u001b[49m != \u001b[33m\"\u001b[39m\u001b[33m \u001b[39m\u001b[33m\"\u001b[39m:\n\u001b[32m      4\u001b[39m         path = prev[vertex] + \u001b[33m'\u001b[39m\u001b[33m->\u001b[39m\u001b[33m'\u001b[39m + path\n\u001b[32m      5\u001b[39m         vertex = prev[vertex]\n",
      "\u001b[31mKeyError\u001b[39m: ''"
     ]
    }
   ],
   "source": [
    "def RECONSTRUCT_PATH(vertex , prev):\n",
    "    path = vertex\n",
    "    while prev[vertex] != \" \":\n",
    "        path = prev[vertex] + '->' + path\n",
    "        vertex = prev[vertex]\n",
    "    return path\n",
    "\n",
    "s = 's'\n",
    "cost , prev = DJ(G , s)\n",
    "for vertex in G.keys():\n",
    "    print(f\"The shortest path from {s} to {vertex} is {RECONSTRUCT_PATH(vertex , prev )}\")\n",
    "    print(f\"Cost is {cost[vertex]}\")"
   ]
  }
 ],
 "metadata": {
  "kernelspec": {
   "display_name": ".venv",
   "language": "python",
   "name": "python3"
  },
  "language_info": {
   "codemirror_mode": {
    "name": "ipython",
    "version": 3
   },
   "file_extension": ".py",
   "mimetype": "text/x-python",
   "name": "python",
   "nbconvert_exporter": "python",
   "pygments_lexer": "ipython3",
   "version": "3.13.3"
  }
 },
 "nbformat": 4,
 "nbformat_minor": 5
}
